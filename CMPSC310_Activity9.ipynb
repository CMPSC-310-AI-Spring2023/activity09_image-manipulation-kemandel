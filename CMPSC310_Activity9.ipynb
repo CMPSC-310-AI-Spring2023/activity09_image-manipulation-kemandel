{
  "nbformat": 4,
  "nbformat_minor": 0,
  "metadata": {
    "colab": {
      "provenance": [],
      "include_colab_link": true
    },
    "kernelspec": {
      "name": "python3",
      "display_name": "Python 3"
    },
    "language_info": {
      "name": "python"
    }
  },
  "cells": [
    {
      "cell_type": "markdown",
      "metadata": {
        "id": "view-in-github",
        "colab_type": "text"
      },
      "source": [
        "<a href=\"https://colab.research.google.com/github/CMPSC-310-AI-Spring2023/activity09_image-manipulation-kemandel/blob/main/CMPSC310_Activity9.ipynb\" target=\"_parent\"><img src=\"https://colab.research.google.com/assets/colab-badge.svg\" alt=\"Open In Colab\"/></a>"
      ]
    },
    {
      "cell_type": "markdown",
      "source": [
        "# **Activity 9: Image Manipulation **\n"
      ],
      "metadata": {
        "id": "vcrrIOhGjS0Z"
      }
    },
    {
      "cell_type": "code",
      "source": [
        "import numpy as np\n",
        "import cv2\n",
        "rect = np.zeros((300,300),dtype=\"uint8\")\n",
        "cv2.rectangle(rect, (25,25), (275,275), 255, -1)\n",
        "cv2.imwrite(\"bitwise/rectangle.png\", rect)\n",
        "\n",
        "cir = np.zeros((300,300),dtype=\"uint8\")\n",
        "cv2.circle(cir,(150,150),150,255,-1)\n",
        "cv2.imwrite(\"bitwise/circle.png\", cir)\n",
        "\n",
        "bitwiseAnd = cv2.bitwise_and(rect,cir)\n",
        "cv2.imwrite(\"bitwise/AND.png\",bitwiseAnd)\n",
        "\n",
        "bitwiseOr = cv2.bitwise_or(rect,cir)\n",
        "cv2.imwrite(\"bitwise/OR.png\",bitwiseOr)\n",
        "\n",
        "bitwiseXor = cv2.bitwise_xor(rect,cir)\n",
        "cv2.imwrite(\"bitwise/XOR.png\",bitwiseXor)\n",
        "\n",
        "bitwiseNot = cv2.bitwise_not(rect,cir)\n",
        "cv2.imwrite(\"bitwise/NOT.png\",bitwiseNot)"
      ],
      "metadata": {
        "id": "0qBjLlWrN1Iz",
        "outputId": "caaae26e-645d-4887-a3b7-7563f8e172af",
        "colab": {
          "base_uri": "https://localhost:8080/"
        }
      },
      "execution_count": 7,
      "outputs": [
        {
          "output_type": "execute_result",
          "data": {
            "text/plain": [
              "True"
            ]
          },
          "metadata": {},
          "execution_count": 7
        }
      ]
    },
    {
      "cell_type": "code",
      "source": [
        "image = cv2.imread(\"images/awards.png\", 1)\n",
        "mask = np.zeros(image.shape[:2],dtype=\"uint8\")"
      ],
      "metadata": {
        "id": "J_nWCo8_R2sU"
      },
      "execution_count": null,
      "outputs": []
    }
  ]
}