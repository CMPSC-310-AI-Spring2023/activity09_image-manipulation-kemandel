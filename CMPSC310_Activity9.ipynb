{
  "nbformat": 4,
  "nbformat_minor": 0,
  "metadata": {
    "colab": {
      "provenance": [],
      "include_colab_link": true
    },
    "kernelspec": {
      "name": "python3",
      "display_name": "Python 3"
    },
    "language_info": {
      "name": "python"
    }
  },
  "cells": [
    {
      "cell_type": "markdown",
      "metadata": {
        "id": "view-in-github",
        "colab_type": "text"
      },
      "source": [
        "<a href=\"https://colab.research.google.com/github/CMPSC-310-AI-Spring2023/activity09_image-manipulation-kemandel/blob/main/Copy_of_CMPSC310_Activity9.ipynb\" target=\"_parent\"><img src=\"https://colab.research.google.com/assets/colab-badge.svg\" alt=\"Open In Colab\"/></a>"
      ]
    },
    {
      "cell_type": "markdown",
      "source": [
        "# **Activity 9: Image Manipulation **\n"
      ],
      "metadata": {
        "id": "vcrrIOhGjS0Z"
      }
    },
    {
      "cell_type": "code",
      "source": [
        "from google.colab import drive\n",
        "drive.mount('/content/drive')"
      ],
      "metadata": {
        "colab": {
          "base_uri": "https://localhost:8080/"
        },
        "id": "N31JFb8Adx9U",
        "outputId": "039c4a59-213c-4d9c-a2ab-8735a523f681"
      },
      "execution_count": 1,
      "outputs": [
        {
          "output_type": "stream",
          "name": "stdout",
          "text": [
            "Mounted at /content/drive\n"
          ]
        }
      ]
    },
    {
      "cell_type": "code",
      "source": [
        "import numpy as np\n",
        "import cv2\n",
        "rect = np.zeros((300,300),dtype=\"uint8\")\n",
        "cv2.rectangle(rect, (25,25), (275,275), 255, -1)\n",
        "cv2.imwrite(\"bitwise/rectangle.png\", rect)\n",
        "\n",
        "cir = np.zeros((300,300),dtype=\"uint8\")\n",
        "cv2.circle(cir,(150,150),150,255,-1)\n",
        "cv2.imwrite(\"bitwise/circle.png\", cir)\n",
        "\n",
        "bitwiseAnd = cv2.bitwise_and(rect,cir)\n",
        "cv2.imwrite(\"bitwise/AND.png\",bitwiseAnd)\n",
        "\n",
        "bitwiseOr = cv2.bitwise_or(rect,cir)\n",
        "cv2.imwrite(\"bitwise/OR.png\",bitwiseOr)\n",
        "\n",
        "bitwiseXor = cv2.bitwise_xor(rect,cir)\n",
        "cv2.imwrite(\"bitwise/XOR.png\",bitwiseXor)\n",
        "\n",
        "bitwiseNot = cv2.bitwise_not(rect,cir)\n",
        "cv2.imwrite(\"bitwise/NOT.png\",bitwiseNot)"
      ],
      "metadata": {
        "colab": {
          "base_uri": "https://localhost:8080/"
        },
        "id": "0qBjLlWrN1Iz",
        "outputId": "733270e2-30b7-4ba9-b4aa-e348bdb7585f"
      },
      "execution_count": 11,
      "outputs": [
        {
          "output_type": "execute_result",
          "data": {
            "text/plain": [
              "True"
            ]
          },
          "metadata": {},
          "execution_count": 11
        }
      ]
    },
    {
      "cell_type": "code",
      "source": [
        "image = cv2.imread(\"drive/MyDrive/Collab Notebooks/Activity 9/images/awards.png\", 1)\n",
        "mask = np.zeros(image.shape[:2],dtype=\"uint8\")\n",
        "(cX, cY) = (image.shape[1] // 2, image.shape[0] // 2)\n",
        "cv2.rectangle(mask, (cX-1500, cY-1000), (cX+1500, cY), 255, -1)\n",
        "cv2.imwrite(\"masked1.png\", mask)\n",
        "\n",
        "masked = cv2.bitwise_and(image, image, mask=mask)\n",
        "cv2.imwrite(\"masked2.png\", masked)\n",
        "\n",
        "gray = cv2.cvtColor(masked, cv2.COLOR_BGR2GRAY)\n",
        "cv2.imwrite(\"gray.png\", gray)"
      ],
      "metadata": {
        "id": "J_nWCo8_R2sU",
        "colab": {
          "base_uri": "https://localhost:8080/"
        },
        "outputId": "f9b63b62-2b40-4b38-aaf6-7931904b60bb"
      },
      "execution_count": 23,
      "outputs": [
        {
          "output_type": "execute_result",
          "data": {
            "text/plain": [
              "True"
            ]
          },
          "metadata": {},
          "execution_count": 23
        }
      ]
    }
  ]
}
